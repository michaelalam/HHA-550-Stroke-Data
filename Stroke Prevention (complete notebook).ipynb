{
 "cells": [
  {
   "cell_type": "code",
   "execution_count": 1,
   "metadata": {},
   "outputs": [],
   "source": [
    "import numpy as np\n",
    "import pandas as pd\n",
    "from sklearn.model_selection import train_test_split\n",
    "from sklearn.datasets import load_iris"
   ]
  },
  {
   "cell_type": "markdown",
   "metadata": {},
   "source": [
    "## INITIAL DATA SETUP\n",
    "## Seting up packages"
   ]
  },
  {
   "cell_type": "code",
   "execution_count": 2,
   "metadata": {},
   "outputs": [],
   "source": [
    "#plotting\n",
    "import matplotlib.pyplot as plt\n",
    "import seaborn as sns\n",
    "\n",
    "\n",
    "#linear algebra\n",
    "import numpy as np\n",
    "\n",
    "#data processing\n",
    "import pandas as pd\n",
    "\n",
    "#splitting data\n",
    "from sklearn.model_selection import train_test_split\n",
    "\n",
    "#scaling\n",
    "from sklearn.preprocessing import StandardScaler\n",
    "\n",
    "#tuning\n",
    "from sklearn.model_selection import RandomizedSearchCV\n",
    "\n",
    "#model evaluation\n",
    "from sklearn import metrics"
   ]
  },
  {
   "cell_type": "markdown",
   "metadata": {},
   "source": [
    "# Getting the data in"
   ]
  },
  {
   "cell_type": "code",
   "execution_count": 4,
   "metadata": {
    "scrolled": true
   },
   "outputs": [
    {
     "ename": "FileNotFoundError",
     "evalue": "[Errno 2] File C:\\Users\\kaden\\Desktop\\StrokePredictionDataset\\healthcare-dataset-stroke-data.csv does not exist: 'C:\\\\Users\\\\kaden\\\\Desktop\\\\StrokePredictionDataset\\\\healthcare-dataset-stroke-data.csv'",
     "output_type": "error",
     "traceback": [
      "\u001b[1;31m---------------------------------------------------------------------------\u001b[0m",
      "\u001b[1;31mFileNotFoundError\u001b[0m                         Traceback (most recent call last)",
      "\u001b[1;32m<ipython-input-4-68e4e8ab1fcd>\u001b[0m in \u001b[0;36m<module>\u001b[1;34m\u001b[0m\n\u001b[0;32m      1\u001b[0m \u001b[1;31m#importing data\u001b[0m\u001b[1;33m\u001b[0m\u001b[1;33m\u001b[0m\u001b[1;33m\u001b[0m\u001b[0m\n\u001b[1;32m----> 2\u001b[1;33m \u001b[0mdf\u001b[0m \u001b[1;33m=\u001b[0m \u001b[0mpd\u001b[0m\u001b[1;33m.\u001b[0m\u001b[0mread_csv\u001b[0m\u001b[1;33m(\u001b[0m\u001b[1;34m\"C:\\\\Users\\\\kaden\\\\Desktop\\\\StrokePredictionDataset\\\\healthcare-dataset-stroke-data.csv\"\u001b[0m\u001b[1;33m)\u001b[0m\u001b[1;33m\u001b[0m\u001b[1;33m\u001b[0m\u001b[0m\n\u001b[0m",
      "\u001b[1;32mC:\\ProgramData\\Anaconda3\\lib\\site-packages\\pandas\\io\\parsers.py\u001b[0m in \u001b[0;36mparser_f\u001b[1;34m(filepath_or_buffer, sep, delimiter, header, names, index_col, usecols, squeeze, prefix, mangle_dupe_cols, dtype, engine, converters, true_values, false_values, skipinitialspace, skiprows, skipfooter, nrows, na_values, keep_default_na, na_filter, verbose, skip_blank_lines, parse_dates, infer_datetime_format, keep_date_col, date_parser, dayfirst, cache_dates, iterator, chunksize, compression, thousands, decimal, lineterminator, quotechar, quoting, doublequote, escapechar, comment, encoding, dialect, error_bad_lines, warn_bad_lines, delim_whitespace, low_memory, memory_map, float_precision)\u001b[0m\n\u001b[0;32m    674\u001b[0m         )\n\u001b[0;32m    675\u001b[0m \u001b[1;33m\u001b[0m\u001b[0m\n\u001b[1;32m--> 676\u001b[1;33m         \u001b[1;32mreturn\u001b[0m \u001b[0m_read\u001b[0m\u001b[1;33m(\u001b[0m\u001b[0mfilepath_or_buffer\u001b[0m\u001b[1;33m,\u001b[0m \u001b[0mkwds\u001b[0m\u001b[1;33m)\u001b[0m\u001b[1;33m\u001b[0m\u001b[1;33m\u001b[0m\u001b[0m\n\u001b[0m\u001b[0;32m    677\u001b[0m \u001b[1;33m\u001b[0m\u001b[0m\n\u001b[0;32m    678\u001b[0m     \u001b[0mparser_f\u001b[0m\u001b[1;33m.\u001b[0m\u001b[0m__name__\u001b[0m \u001b[1;33m=\u001b[0m \u001b[0mname\u001b[0m\u001b[1;33m\u001b[0m\u001b[1;33m\u001b[0m\u001b[0m\n",
      "\u001b[1;32mC:\\ProgramData\\Anaconda3\\lib\\site-packages\\pandas\\io\\parsers.py\u001b[0m in \u001b[0;36m_read\u001b[1;34m(filepath_or_buffer, kwds)\u001b[0m\n\u001b[0;32m    446\u001b[0m \u001b[1;33m\u001b[0m\u001b[0m\n\u001b[0;32m    447\u001b[0m     \u001b[1;31m# Create the parser.\u001b[0m\u001b[1;33m\u001b[0m\u001b[1;33m\u001b[0m\u001b[1;33m\u001b[0m\u001b[0m\n\u001b[1;32m--> 448\u001b[1;33m     \u001b[0mparser\u001b[0m \u001b[1;33m=\u001b[0m \u001b[0mTextFileReader\u001b[0m\u001b[1;33m(\u001b[0m\u001b[0mfp_or_buf\u001b[0m\u001b[1;33m,\u001b[0m \u001b[1;33m**\u001b[0m\u001b[0mkwds\u001b[0m\u001b[1;33m)\u001b[0m\u001b[1;33m\u001b[0m\u001b[1;33m\u001b[0m\u001b[0m\n\u001b[0m\u001b[0;32m    449\u001b[0m \u001b[1;33m\u001b[0m\u001b[0m\n\u001b[0;32m    450\u001b[0m     \u001b[1;32mif\u001b[0m \u001b[0mchunksize\u001b[0m \u001b[1;32mor\u001b[0m \u001b[0miterator\u001b[0m\u001b[1;33m:\u001b[0m\u001b[1;33m\u001b[0m\u001b[1;33m\u001b[0m\u001b[0m\n",
      "\u001b[1;32mC:\\ProgramData\\Anaconda3\\lib\\site-packages\\pandas\\io\\parsers.py\u001b[0m in \u001b[0;36m__init__\u001b[1;34m(self, f, engine, **kwds)\u001b[0m\n\u001b[0;32m    878\u001b[0m             \u001b[0mself\u001b[0m\u001b[1;33m.\u001b[0m\u001b[0moptions\u001b[0m\u001b[1;33m[\u001b[0m\u001b[1;34m\"has_index_names\"\u001b[0m\u001b[1;33m]\u001b[0m \u001b[1;33m=\u001b[0m \u001b[0mkwds\u001b[0m\u001b[1;33m[\u001b[0m\u001b[1;34m\"has_index_names\"\u001b[0m\u001b[1;33m]\u001b[0m\u001b[1;33m\u001b[0m\u001b[1;33m\u001b[0m\u001b[0m\n\u001b[0;32m    879\u001b[0m \u001b[1;33m\u001b[0m\u001b[0m\n\u001b[1;32m--> 880\u001b[1;33m         \u001b[0mself\u001b[0m\u001b[1;33m.\u001b[0m\u001b[0m_make_engine\u001b[0m\u001b[1;33m(\u001b[0m\u001b[0mself\u001b[0m\u001b[1;33m.\u001b[0m\u001b[0mengine\u001b[0m\u001b[1;33m)\u001b[0m\u001b[1;33m\u001b[0m\u001b[1;33m\u001b[0m\u001b[0m\n\u001b[0m\u001b[0;32m    881\u001b[0m \u001b[1;33m\u001b[0m\u001b[0m\n\u001b[0;32m    882\u001b[0m     \u001b[1;32mdef\u001b[0m \u001b[0mclose\u001b[0m\u001b[1;33m(\u001b[0m\u001b[0mself\u001b[0m\u001b[1;33m)\u001b[0m\u001b[1;33m:\u001b[0m\u001b[1;33m\u001b[0m\u001b[1;33m\u001b[0m\u001b[0m\n",
      "\u001b[1;32mC:\\ProgramData\\Anaconda3\\lib\\site-packages\\pandas\\io\\parsers.py\u001b[0m in \u001b[0;36m_make_engine\u001b[1;34m(self, engine)\u001b[0m\n\u001b[0;32m   1112\u001b[0m     \u001b[1;32mdef\u001b[0m \u001b[0m_make_engine\u001b[0m\u001b[1;33m(\u001b[0m\u001b[0mself\u001b[0m\u001b[1;33m,\u001b[0m \u001b[0mengine\u001b[0m\u001b[1;33m=\u001b[0m\u001b[1;34m\"c\"\u001b[0m\u001b[1;33m)\u001b[0m\u001b[1;33m:\u001b[0m\u001b[1;33m\u001b[0m\u001b[1;33m\u001b[0m\u001b[0m\n\u001b[0;32m   1113\u001b[0m         \u001b[1;32mif\u001b[0m \u001b[0mengine\u001b[0m \u001b[1;33m==\u001b[0m \u001b[1;34m\"c\"\u001b[0m\u001b[1;33m:\u001b[0m\u001b[1;33m\u001b[0m\u001b[1;33m\u001b[0m\u001b[0m\n\u001b[1;32m-> 1114\u001b[1;33m             \u001b[0mself\u001b[0m\u001b[1;33m.\u001b[0m\u001b[0m_engine\u001b[0m \u001b[1;33m=\u001b[0m \u001b[0mCParserWrapper\u001b[0m\u001b[1;33m(\u001b[0m\u001b[0mself\u001b[0m\u001b[1;33m.\u001b[0m\u001b[0mf\u001b[0m\u001b[1;33m,\u001b[0m \u001b[1;33m**\u001b[0m\u001b[0mself\u001b[0m\u001b[1;33m.\u001b[0m\u001b[0moptions\u001b[0m\u001b[1;33m)\u001b[0m\u001b[1;33m\u001b[0m\u001b[1;33m\u001b[0m\u001b[0m\n\u001b[0m\u001b[0;32m   1115\u001b[0m         \u001b[1;32melse\u001b[0m\u001b[1;33m:\u001b[0m\u001b[1;33m\u001b[0m\u001b[1;33m\u001b[0m\u001b[0m\n\u001b[0;32m   1116\u001b[0m             \u001b[1;32mif\u001b[0m \u001b[0mengine\u001b[0m \u001b[1;33m==\u001b[0m \u001b[1;34m\"python\"\u001b[0m\u001b[1;33m:\u001b[0m\u001b[1;33m\u001b[0m\u001b[1;33m\u001b[0m\u001b[0m\n",
      "\u001b[1;32mC:\\ProgramData\\Anaconda3\\lib\\site-packages\\pandas\\io\\parsers.py\u001b[0m in \u001b[0;36m__init__\u001b[1;34m(self, src, **kwds)\u001b[0m\n\u001b[0;32m   1889\u001b[0m         \u001b[0mkwds\u001b[0m\u001b[1;33m[\u001b[0m\u001b[1;34m\"usecols\"\u001b[0m\u001b[1;33m]\u001b[0m \u001b[1;33m=\u001b[0m \u001b[0mself\u001b[0m\u001b[1;33m.\u001b[0m\u001b[0musecols\u001b[0m\u001b[1;33m\u001b[0m\u001b[1;33m\u001b[0m\u001b[0m\n\u001b[0;32m   1890\u001b[0m \u001b[1;33m\u001b[0m\u001b[0m\n\u001b[1;32m-> 1891\u001b[1;33m         \u001b[0mself\u001b[0m\u001b[1;33m.\u001b[0m\u001b[0m_reader\u001b[0m \u001b[1;33m=\u001b[0m \u001b[0mparsers\u001b[0m\u001b[1;33m.\u001b[0m\u001b[0mTextReader\u001b[0m\u001b[1;33m(\u001b[0m\u001b[0msrc\u001b[0m\u001b[1;33m,\u001b[0m \u001b[1;33m**\u001b[0m\u001b[0mkwds\u001b[0m\u001b[1;33m)\u001b[0m\u001b[1;33m\u001b[0m\u001b[1;33m\u001b[0m\u001b[0m\n\u001b[0m\u001b[0;32m   1892\u001b[0m         \u001b[0mself\u001b[0m\u001b[1;33m.\u001b[0m\u001b[0munnamed_cols\u001b[0m \u001b[1;33m=\u001b[0m \u001b[0mself\u001b[0m\u001b[1;33m.\u001b[0m\u001b[0m_reader\u001b[0m\u001b[1;33m.\u001b[0m\u001b[0munnamed_cols\u001b[0m\u001b[1;33m\u001b[0m\u001b[1;33m\u001b[0m\u001b[0m\n\u001b[0;32m   1893\u001b[0m \u001b[1;33m\u001b[0m\u001b[0m\n",
      "\u001b[1;32mpandas\\_libs\\parsers.pyx\u001b[0m in \u001b[0;36mpandas._libs.parsers.TextReader.__cinit__\u001b[1;34m()\u001b[0m\n",
      "\u001b[1;32mpandas\\_libs\\parsers.pyx\u001b[0m in \u001b[0;36mpandas._libs.parsers.TextReader._setup_parser_source\u001b[1;34m()\u001b[0m\n",
      "\u001b[1;31mFileNotFoundError\u001b[0m: [Errno 2] File C:\\Users\\kaden\\Desktop\\StrokePredictionDataset\\healthcare-dataset-stroke-data.csv does not exist: 'C:\\\\Users\\\\kaden\\\\Desktop\\\\StrokePredictionDataset\\\\healthcare-dataset-stroke-data.csv'"
     ]
    }
   ],
   "source": [
    "#importing data\n",
    "df = pd.read_csv(\"C:\\\\Users\\\\kaden\\\\Desktop\\\\StrokePredictionDataset\\\\healthcare-dataset-stroke-data.csv\")"
   ]
  },
  {
   "cell_type": "code",
   "execution_count": 7,
   "metadata": {},
   "outputs": [
    {
     "ename": "FileNotFoundError",
     "evalue": "[Errno 2] File C:\\Users\\Michael Lam\\Desktop\\HHA 550\\Session 10 assignment\\healthcare-dataset-stroke-data does not exist: 'C:\\\\Users\\\\Michael Lam\\\\Desktop\\\\HHA 550\\\\Session 10 assignment\\\\healthcare-dataset-stroke-data'",
     "output_type": "error",
     "traceback": [
      "\u001b[1;31m---------------------------------------------------------------------------\u001b[0m",
      "\u001b[1;31mFileNotFoundError\u001b[0m                         Traceback (most recent call last)",
      "\u001b[1;32m<ipython-input-7-07ad4dc5e4e4>\u001b[0m in \u001b[0;36m<module>\u001b[1;34m\u001b[0m\n\u001b[0;32m      1\u001b[0m \u001b[1;31m#importing data\u001b[0m\u001b[1;33m\u001b[0m\u001b[1;33m\u001b[0m\u001b[1;33m\u001b[0m\u001b[0m\n\u001b[1;32m----> 2\u001b[1;33m \u001b[0mdf\u001b[0m \u001b[1;33m=\u001b[0m \u001b[0mpd\u001b[0m\u001b[1;33m.\u001b[0m\u001b[0mread_csv\u001b[0m\u001b[1;33m(\u001b[0m \u001b[1;34m\"C:\\\\Users\\\\Michael Lam\\\\Desktop\\\\HHA 550\\\\Session 10 assignment\\\\healthcare-dataset-stroke-data\"\u001b[0m\u001b[1;33m)\u001b[0m\u001b[1;33m\u001b[0m\u001b[1;33m\u001b[0m\u001b[0m\n\u001b[0m",
      "\u001b[1;32mC:\\ProgramData\\Anaconda3\\lib\\site-packages\\pandas\\io\\parsers.py\u001b[0m in \u001b[0;36mparser_f\u001b[1;34m(filepath_or_buffer, sep, delimiter, header, names, index_col, usecols, squeeze, prefix, mangle_dupe_cols, dtype, engine, converters, true_values, false_values, skipinitialspace, skiprows, skipfooter, nrows, na_values, keep_default_na, na_filter, verbose, skip_blank_lines, parse_dates, infer_datetime_format, keep_date_col, date_parser, dayfirst, cache_dates, iterator, chunksize, compression, thousands, decimal, lineterminator, quotechar, quoting, doublequote, escapechar, comment, encoding, dialect, error_bad_lines, warn_bad_lines, delim_whitespace, low_memory, memory_map, float_precision)\u001b[0m\n\u001b[0;32m    674\u001b[0m         )\n\u001b[0;32m    675\u001b[0m \u001b[1;33m\u001b[0m\u001b[0m\n\u001b[1;32m--> 676\u001b[1;33m         \u001b[1;32mreturn\u001b[0m \u001b[0m_read\u001b[0m\u001b[1;33m(\u001b[0m\u001b[0mfilepath_or_buffer\u001b[0m\u001b[1;33m,\u001b[0m \u001b[0mkwds\u001b[0m\u001b[1;33m)\u001b[0m\u001b[1;33m\u001b[0m\u001b[1;33m\u001b[0m\u001b[0m\n\u001b[0m\u001b[0;32m    677\u001b[0m \u001b[1;33m\u001b[0m\u001b[0m\n\u001b[0;32m    678\u001b[0m     \u001b[0mparser_f\u001b[0m\u001b[1;33m.\u001b[0m\u001b[0m__name__\u001b[0m \u001b[1;33m=\u001b[0m \u001b[0mname\u001b[0m\u001b[1;33m\u001b[0m\u001b[1;33m\u001b[0m\u001b[0m\n",
      "\u001b[1;32mC:\\ProgramData\\Anaconda3\\lib\\site-packages\\pandas\\io\\parsers.py\u001b[0m in \u001b[0;36m_read\u001b[1;34m(filepath_or_buffer, kwds)\u001b[0m\n\u001b[0;32m    446\u001b[0m \u001b[1;33m\u001b[0m\u001b[0m\n\u001b[0;32m    447\u001b[0m     \u001b[1;31m# Create the parser.\u001b[0m\u001b[1;33m\u001b[0m\u001b[1;33m\u001b[0m\u001b[1;33m\u001b[0m\u001b[0m\n\u001b[1;32m--> 448\u001b[1;33m     \u001b[0mparser\u001b[0m \u001b[1;33m=\u001b[0m \u001b[0mTextFileReader\u001b[0m\u001b[1;33m(\u001b[0m\u001b[0mfp_or_buf\u001b[0m\u001b[1;33m,\u001b[0m \u001b[1;33m**\u001b[0m\u001b[0mkwds\u001b[0m\u001b[1;33m)\u001b[0m\u001b[1;33m\u001b[0m\u001b[1;33m\u001b[0m\u001b[0m\n\u001b[0m\u001b[0;32m    449\u001b[0m \u001b[1;33m\u001b[0m\u001b[0m\n\u001b[0;32m    450\u001b[0m     \u001b[1;32mif\u001b[0m \u001b[0mchunksize\u001b[0m \u001b[1;32mor\u001b[0m \u001b[0miterator\u001b[0m\u001b[1;33m:\u001b[0m\u001b[1;33m\u001b[0m\u001b[1;33m\u001b[0m\u001b[0m\n",
      "\u001b[1;32mC:\\ProgramData\\Anaconda3\\lib\\site-packages\\pandas\\io\\parsers.py\u001b[0m in \u001b[0;36m__init__\u001b[1;34m(self, f, engine, **kwds)\u001b[0m\n\u001b[0;32m    878\u001b[0m             \u001b[0mself\u001b[0m\u001b[1;33m.\u001b[0m\u001b[0moptions\u001b[0m\u001b[1;33m[\u001b[0m\u001b[1;34m\"has_index_names\"\u001b[0m\u001b[1;33m]\u001b[0m \u001b[1;33m=\u001b[0m \u001b[0mkwds\u001b[0m\u001b[1;33m[\u001b[0m\u001b[1;34m\"has_index_names\"\u001b[0m\u001b[1;33m]\u001b[0m\u001b[1;33m\u001b[0m\u001b[1;33m\u001b[0m\u001b[0m\n\u001b[0;32m    879\u001b[0m \u001b[1;33m\u001b[0m\u001b[0m\n\u001b[1;32m--> 880\u001b[1;33m         \u001b[0mself\u001b[0m\u001b[1;33m.\u001b[0m\u001b[0m_make_engine\u001b[0m\u001b[1;33m(\u001b[0m\u001b[0mself\u001b[0m\u001b[1;33m.\u001b[0m\u001b[0mengine\u001b[0m\u001b[1;33m)\u001b[0m\u001b[1;33m\u001b[0m\u001b[1;33m\u001b[0m\u001b[0m\n\u001b[0m\u001b[0;32m    881\u001b[0m \u001b[1;33m\u001b[0m\u001b[0m\n\u001b[0;32m    882\u001b[0m     \u001b[1;32mdef\u001b[0m \u001b[0mclose\u001b[0m\u001b[1;33m(\u001b[0m\u001b[0mself\u001b[0m\u001b[1;33m)\u001b[0m\u001b[1;33m:\u001b[0m\u001b[1;33m\u001b[0m\u001b[1;33m\u001b[0m\u001b[0m\n",
      "\u001b[1;32mC:\\ProgramData\\Anaconda3\\lib\\site-packages\\pandas\\io\\parsers.py\u001b[0m in \u001b[0;36m_make_engine\u001b[1;34m(self, engine)\u001b[0m\n\u001b[0;32m   1112\u001b[0m     \u001b[1;32mdef\u001b[0m \u001b[0m_make_engine\u001b[0m\u001b[1;33m(\u001b[0m\u001b[0mself\u001b[0m\u001b[1;33m,\u001b[0m \u001b[0mengine\u001b[0m\u001b[1;33m=\u001b[0m\u001b[1;34m\"c\"\u001b[0m\u001b[1;33m)\u001b[0m\u001b[1;33m:\u001b[0m\u001b[1;33m\u001b[0m\u001b[1;33m\u001b[0m\u001b[0m\n\u001b[0;32m   1113\u001b[0m         \u001b[1;32mif\u001b[0m \u001b[0mengine\u001b[0m \u001b[1;33m==\u001b[0m \u001b[1;34m\"c\"\u001b[0m\u001b[1;33m:\u001b[0m\u001b[1;33m\u001b[0m\u001b[1;33m\u001b[0m\u001b[0m\n\u001b[1;32m-> 1114\u001b[1;33m             \u001b[0mself\u001b[0m\u001b[1;33m.\u001b[0m\u001b[0m_engine\u001b[0m \u001b[1;33m=\u001b[0m \u001b[0mCParserWrapper\u001b[0m\u001b[1;33m(\u001b[0m\u001b[0mself\u001b[0m\u001b[1;33m.\u001b[0m\u001b[0mf\u001b[0m\u001b[1;33m,\u001b[0m \u001b[1;33m**\u001b[0m\u001b[0mself\u001b[0m\u001b[1;33m.\u001b[0m\u001b[0moptions\u001b[0m\u001b[1;33m)\u001b[0m\u001b[1;33m\u001b[0m\u001b[1;33m\u001b[0m\u001b[0m\n\u001b[0m\u001b[0;32m   1115\u001b[0m         \u001b[1;32melse\u001b[0m\u001b[1;33m:\u001b[0m\u001b[1;33m\u001b[0m\u001b[1;33m\u001b[0m\u001b[0m\n\u001b[0;32m   1116\u001b[0m             \u001b[1;32mif\u001b[0m \u001b[0mengine\u001b[0m \u001b[1;33m==\u001b[0m \u001b[1;34m\"python\"\u001b[0m\u001b[1;33m:\u001b[0m\u001b[1;33m\u001b[0m\u001b[1;33m\u001b[0m\u001b[0m\n",
      "\u001b[1;32mC:\\ProgramData\\Anaconda3\\lib\\site-packages\\pandas\\io\\parsers.py\u001b[0m in \u001b[0;36m__init__\u001b[1;34m(self, src, **kwds)\u001b[0m\n\u001b[0;32m   1889\u001b[0m         \u001b[0mkwds\u001b[0m\u001b[1;33m[\u001b[0m\u001b[1;34m\"usecols\"\u001b[0m\u001b[1;33m]\u001b[0m \u001b[1;33m=\u001b[0m \u001b[0mself\u001b[0m\u001b[1;33m.\u001b[0m\u001b[0musecols\u001b[0m\u001b[1;33m\u001b[0m\u001b[1;33m\u001b[0m\u001b[0m\n\u001b[0;32m   1890\u001b[0m \u001b[1;33m\u001b[0m\u001b[0m\n\u001b[1;32m-> 1891\u001b[1;33m         \u001b[0mself\u001b[0m\u001b[1;33m.\u001b[0m\u001b[0m_reader\u001b[0m \u001b[1;33m=\u001b[0m \u001b[0mparsers\u001b[0m\u001b[1;33m.\u001b[0m\u001b[0mTextReader\u001b[0m\u001b[1;33m(\u001b[0m\u001b[0msrc\u001b[0m\u001b[1;33m,\u001b[0m \u001b[1;33m**\u001b[0m\u001b[0mkwds\u001b[0m\u001b[1;33m)\u001b[0m\u001b[1;33m\u001b[0m\u001b[1;33m\u001b[0m\u001b[0m\n\u001b[0m\u001b[0;32m   1892\u001b[0m         \u001b[0mself\u001b[0m\u001b[1;33m.\u001b[0m\u001b[0munnamed_cols\u001b[0m \u001b[1;33m=\u001b[0m \u001b[0mself\u001b[0m\u001b[1;33m.\u001b[0m\u001b[0m_reader\u001b[0m\u001b[1;33m.\u001b[0m\u001b[0munnamed_cols\u001b[0m\u001b[1;33m\u001b[0m\u001b[1;33m\u001b[0m\u001b[0m\n\u001b[0;32m   1893\u001b[0m \u001b[1;33m\u001b[0m\u001b[0m\n",
      "\u001b[1;32mpandas\\_libs\\parsers.pyx\u001b[0m in \u001b[0;36mpandas._libs.parsers.TextReader.__cinit__\u001b[1;34m()\u001b[0m\n",
      "\u001b[1;32mpandas\\_libs\\parsers.pyx\u001b[0m in \u001b[0;36mpandas._libs.parsers.TextReader._setup_parser_source\u001b[1;34m()\u001b[0m\n",
      "\u001b[1;31mFileNotFoundError\u001b[0m: [Errno 2] File C:\\Users\\Michael Lam\\Desktop\\HHA 550\\Session 10 assignment\\healthcare-dataset-stroke-data does not exist: 'C:\\\\Users\\\\Michael Lam\\\\Desktop\\\\HHA 550\\\\Session 10 assignment\\\\healthcare-dataset-stroke-data'"
     ]
    }
   ],
   "source": [
    "#importing data\n",
    "df = pd.read_csv( \"C:\\Users\\Michael Lam\\Desktop\\HHA 550\\Session 10 assignment\\healthcare-dataset-stroke-data\")"
   ]
  },
  {
   "cell_type": "code",
   "execution_count": 166,
   "metadata": {},
   "outputs": [],
   "source": [
    "#we can remove the ID column in the csv or in the code below\n",
    "df = df.drop('id', axis = 1)"
   ]
  },
  {
   "cell_type": "code",
   "execution_count": 167,
   "metadata": {},
   "outputs": [
    {
     "data": {
      "text/html": [
       "<div>\n",
       "<style scoped>\n",
       "    .dataframe tbody tr th:only-of-type {\n",
       "        vertical-align: middle;\n",
       "    }\n",
       "\n",
       "    .dataframe tbody tr th {\n",
       "        vertical-align: top;\n",
       "    }\n",
       "\n",
       "    .dataframe thead th {\n",
       "        text-align: right;\n",
       "    }\n",
       "</style>\n",
       "<table border=\"1\" class=\"dataframe\">\n",
       "  <thead>\n",
       "    <tr style=\"text-align: right;\">\n",
       "      <th></th>\n",
       "      <th>gender</th>\n",
       "      <th>age</th>\n",
       "      <th>hypertension</th>\n",
       "      <th>heart_disease</th>\n",
       "      <th>ever_married</th>\n",
       "      <th>work_type</th>\n",
       "      <th>Residence_type</th>\n",
       "      <th>avg_glucose_level</th>\n",
       "      <th>bmi</th>\n",
       "      <th>smoking_status</th>\n",
       "      <th>stroke</th>\n",
       "    </tr>\n",
       "  </thead>\n",
       "  <tbody>\n",
       "    <tr>\n",
       "      <th>0</th>\n",
       "      <td>Male</td>\n",
       "      <td>67.0</td>\n",
       "      <td>0</td>\n",
       "      <td>1</td>\n",
       "      <td>Yes</td>\n",
       "      <td>Private</td>\n",
       "      <td>Urban</td>\n",
       "      <td>228.69</td>\n",
       "      <td>36.6</td>\n",
       "      <td>formerly smoked</td>\n",
       "      <td>1</td>\n",
       "    </tr>\n",
       "    <tr>\n",
       "      <th>1</th>\n",
       "      <td>Female</td>\n",
       "      <td>61.0</td>\n",
       "      <td>0</td>\n",
       "      <td>0</td>\n",
       "      <td>Yes</td>\n",
       "      <td>Self-employed</td>\n",
       "      <td>Rural</td>\n",
       "      <td>202.21</td>\n",
       "      <td>NaN</td>\n",
       "      <td>never smoked</td>\n",
       "      <td>1</td>\n",
       "    </tr>\n",
       "    <tr>\n",
       "      <th>2</th>\n",
       "      <td>Male</td>\n",
       "      <td>80.0</td>\n",
       "      <td>0</td>\n",
       "      <td>1</td>\n",
       "      <td>Yes</td>\n",
       "      <td>Private</td>\n",
       "      <td>Rural</td>\n",
       "      <td>105.92</td>\n",
       "      <td>32.5</td>\n",
       "      <td>never smoked</td>\n",
       "      <td>1</td>\n",
       "    </tr>\n",
       "    <tr>\n",
       "      <th>3</th>\n",
       "      <td>Female</td>\n",
       "      <td>49.0</td>\n",
       "      <td>0</td>\n",
       "      <td>0</td>\n",
       "      <td>Yes</td>\n",
       "      <td>Private</td>\n",
       "      <td>Urban</td>\n",
       "      <td>171.23</td>\n",
       "      <td>34.4</td>\n",
       "      <td>smokes</td>\n",
       "      <td>1</td>\n",
       "    </tr>\n",
       "    <tr>\n",
       "      <th>4</th>\n",
       "      <td>Female</td>\n",
       "      <td>79.0</td>\n",
       "      <td>1</td>\n",
       "      <td>0</td>\n",
       "      <td>Yes</td>\n",
       "      <td>Self-employed</td>\n",
       "      <td>Rural</td>\n",
       "      <td>174.12</td>\n",
       "      <td>24.0</td>\n",
       "      <td>never smoked</td>\n",
       "      <td>1</td>\n",
       "    </tr>\n",
       "  </tbody>\n",
       "</table>\n",
       "</div>"
      ],
      "text/plain": [
       "   gender   age  hypertension  heart_disease ever_married      work_type  \\\n",
       "0    Male  67.0             0              1          Yes        Private   \n",
       "1  Female  61.0             0              0          Yes  Self-employed   \n",
       "2    Male  80.0             0              1          Yes        Private   \n",
       "3  Female  49.0             0              0          Yes        Private   \n",
       "4  Female  79.0             1              0          Yes  Self-employed   \n",
       "\n",
       "  Residence_type  avg_glucose_level   bmi   smoking_status  stroke  \n",
       "0          Urban             228.69  36.6  formerly smoked       1  \n",
       "1          Rural             202.21   NaN     never smoked       1  \n",
       "2          Rural             105.92  32.5     never smoked       1  \n",
       "3          Urban             171.23  34.4           smokes       1  \n",
       "4          Rural             174.12  24.0     never smoked       1  "
      ]
     },
     "execution_count": 167,
     "metadata": {},
     "output_type": "execute_result"
    }
   ],
   "source": [
    "#to make sure the ID colum was removed and ensure data is being read grab the first 5 rows.\n",
    "df.head()"
   ]
  },
  {
   "cell_type": "markdown",
   "metadata": {},
   "source": [
    "## First look at the data"
   ]
  },
  {
   "cell_type": "code",
   "execution_count": 168,
   "metadata": {},
   "outputs": [
    {
     "name": "stdout",
     "output_type": "stream",
     "text": [
      "<class 'pandas.core.frame.DataFrame'>\n",
      "RangeIndex: 5110 entries, 0 to 5109\n",
      "Data columns (total 11 columns):\n",
      " #   Column             Non-Null Count  Dtype  \n",
      "---  ------             --------------  -----  \n",
      " 0   gender             5110 non-null   object \n",
      " 1   age                5110 non-null   float64\n",
      " 2   hypertension       5110 non-null   int64  \n",
      " 3   heart_disease      5110 non-null   int64  \n",
      " 4   ever_married       5110 non-null   object \n",
      " 5   work_type          5110 non-null   object \n",
      " 6   Residence_type     5110 non-null   object \n",
      " 7   avg_glucose_level  5110 non-null   float64\n",
      " 8   bmi                4909 non-null   float64\n",
      " 9   smoking_status     5110 non-null   object \n",
      " 10  stroke             5110 non-null   int64  \n",
      "dtypes: float64(3), int64(3), object(5)\n",
      "memory usage: 439.3+ KB\n"
     ]
    }
   ],
   "source": [
    "#lets take a look at the data types in the data\n",
    "df.info()"
   ]
  },
  {
   "cell_type": "code",
   "execution_count": 108,
   "metadata": {},
   "outputs": [
    {
     "data": {
      "text/html": [
       "<div>\n",
       "<style scoped>\n",
       "    .dataframe tbody tr th:only-of-type {\n",
       "        vertical-align: middle;\n",
       "    }\n",
       "\n",
       "    .dataframe tbody tr th {\n",
       "        vertical-align: top;\n",
       "    }\n",
       "\n",
       "    .dataframe thead th {\n",
       "        text-align: right;\n",
       "    }\n",
       "</style>\n",
       "<table border=\"1\" class=\"dataframe\">\n",
       "  <thead>\n",
       "    <tr style=\"text-align: right;\">\n",
       "      <th></th>\n",
       "      <th>age</th>\n",
       "      <th>hypertension</th>\n",
       "      <th>heart_disease</th>\n",
       "      <th>avg_glucose_level</th>\n",
       "      <th>bmi</th>\n",
       "      <th>stroke</th>\n",
       "    </tr>\n",
       "  </thead>\n",
       "  <tbody>\n",
       "    <tr>\n",
       "      <th>count</th>\n",
       "      <td>5110.000000</td>\n",
       "      <td>5110.000000</td>\n",
       "      <td>5110.000000</td>\n",
       "      <td>5110.000000</td>\n",
       "      <td>4909.000000</td>\n",
       "      <td>5110.000000</td>\n",
       "    </tr>\n",
       "    <tr>\n",
       "      <th>mean</th>\n",
       "      <td>43.226614</td>\n",
       "      <td>0.097456</td>\n",
       "      <td>0.054012</td>\n",
       "      <td>106.147677</td>\n",
       "      <td>28.893237</td>\n",
       "      <td>0.048728</td>\n",
       "    </tr>\n",
       "    <tr>\n",
       "      <th>std</th>\n",
       "      <td>22.612647</td>\n",
       "      <td>0.296607</td>\n",
       "      <td>0.226063</td>\n",
       "      <td>45.283560</td>\n",
       "      <td>7.854067</td>\n",
       "      <td>0.215320</td>\n",
       "    </tr>\n",
       "    <tr>\n",
       "      <th>min</th>\n",
       "      <td>0.080000</td>\n",
       "      <td>0.000000</td>\n",
       "      <td>0.000000</td>\n",
       "      <td>55.120000</td>\n",
       "      <td>10.300000</td>\n",
       "      <td>0.000000</td>\n",
       "    </tr>\n",
       "    <tr>\n",
       "      <th>25%</th>\n",
       "      <td>25.000000</td>\n",
       "      <td>0.000000</td>\n",
       "      <td>0.000000</td>\n",
       "      <td>77.245000</td>\n",
       "      <td>23.500000</td>\n",
       "      <td>0.000000</td>\n",
       "    </tr>\n",
       "    <tr>\n",
       "      <th>50%</th>\n",
       "      <td>45.000000</td>\n",
       "      <td>0.000000</td>\n",
       "      <td>0.000000</td>\n",
       "      <td>91.885000</td>\n",
       "      <td>28.100000</td>\n",
       "      <td>0.000000</td>\n",
       "    </tr>\n",
       "    <tr>\n",
       "      <th>75%</th>\n",
       "      <td>61.000000</td>\n",
       "      <td>0.000000</td>\n",
       "      <td>0.000000</td>\n",
       "      <td>114.090000</td>\n",
       "      <td>33.100000</td>\n",
       "      <td>0.000000</td>\n",
       "    </tr>\n",
       "    <tr>\n",
       "      <th>max</th>\n",
       "      <td>82.000000</td>\n",
       "      <td>1.000000</td>\n",
       "      <td>1.000000</td>\n",
       "      <td>271.740000</td>\n",
       "      <td>97.600000</td>\n",
       "      <td>1.000000</td>\n",
       "    </tr>\n",
       "  </tbody>\n",
       "</table>\n",
       "</div>"
      ],
      "text/plain": [
       "               age  hypertension  heart_disease  avg_glucose_level  \\\n",
       "count  5110.000000   5110.000000    5110.000000        5110.000000   \n",
       "mean     43.226614      0.097456       0.054012         106.147677   \n",
       "std      22.612647      0.296607       0.226063          45.283560   \n",
       "min       0.080000      0.000000       0.000000          55.120000   \n",
       "25%      25.000000      0.000000       0.000000          77.245000   \n",
       "50%      45.000000      0.000000       0.000000          91.885000   \n",
       "75%      61.000000      0.000000       0.000000         114.090000   \n",
       "max      82.000000      1.000000       1.000000         271.740000   \n",
       "\n",
       "               bmi       stroke  \n",
       "count  4909.000000  5110.000000  \n",
       "mean     28.893237     0.048728  \n",
       "std       7.854067     0.215320  \n",
       "min      10.300000     0.000000  \n",
       "25%      23.500000     0.000000  \n",
       "50%      28.100000     0.000000  \n",
       "75%      33.100000     0.000000  \n",
       "max      97.600000     1.000000  "
      ]
     },
     "execution_count": 108,
     "metadata": {},
     "output_type": "execute_result"
    }
   ],
   "source": [
    "#looking at the stats breakdown\n",
    "df.describe()"
   ]
  },
  {
   "cell_type": "markdown",
   "metadata": {},
   "source": [
    "## PREPROCESSING\n",
    "#### Data Cleaning\n",
    "###### (this process can be done in the csv or in the code below.  Be sure to document what you have done in your data dictionary and in the code)"
   ]
  },
  {
   "cell_type": "code",
   "execution_count": 109,
   "metadata": {},
   "outputs": [],
   "source": [
    "#convert string\n",
    "## Make sure this is documented in the data dictionary!\n",
    "\n",
    "# gender\n",
    "df['gender'] = df['gender'].map({\n",
    "    'Male' :int(0),\n",
    "    'Female' :int(1),\n",
    "    'Other' :int(2),})\n",
    "\n",
    "# ever_married\n",
    "df['ever_married'] = df['ever_married'].map({\n",
    "'Yes':int(1), \n",
    "'No':int(0)})\n",
    "\n",
    "# work_type\n",
    "df['work_type'] = df['work_type'].map({\n",
    "'Private':int(3), \n",
    "'Self-employed':int(4),\n",
    "'Govt_job':int(2), \n",
    "'children':int(1), \n",
    "'Never_worked':int(0)})\n",
    "\n",
    "# Residence_type\n",
    "df['Residence_type'] = df['Residence_type'].map({\n",
    "'Urban':int(2), \n",
    "'Rural':int(1)})\n",
    "\n",
    "# smoking_status\n",
    "df['smoking_status'] = df['smoking_status'].map({\n",
    "'formerly smoked':int(1),\n",
    "'never smoked':int(2), \n",
    "'smokes':int(3),\n",
    "'Unknown':int(0)})"
   ]
  },
  {
   "cell_type": "code",
   "execution_count": 110,
   "metadata": {},
   "outputs": [
    {
     "name": "stdout",
     "output_type": "stream",
     "text": [
      "<class 'pandas.core.frame.DataFrame'>\n",
      "RangeIndex: 5110 entries, 0 to 5109\n",
      "Data columns (total 11 columns):\n",
      " #   Column             Non-Null Count  Dtype  \n",
      "---  ------             --------------  -----  \n",
      " 0   gender             5110 non-null   int64  \n",
      " 1   age                5110 non-null   float64\n",
      " 2   hypertension       5110 non-null   int64  \n",
      " 3   heart_disease      5110 non-null   int64  \n",
      " 4   ever_married       5110 non-null   int64  \n",
      " 5   work_type          5110 non-null   int64  \n",
      " 6   Residence_type     5110 non-null   int64  \n",
      " 7   avg_glucose_level  5110 non-null   float64\n",
      " 8   bmi                4909 non-null   float64\n",
      " 9   smoking_status     5110 non-null   int64  \n",
      " 10  stroke             5110 non-null   int64  \n",
      "dtypes: float64(3), int64(8)\n",
      "memory usage: 439.3 KB\n"
     ]
    }
   ],
   "source": [
    "# confirm the changes made\n",
    "\n",
    "df.info()"
   ]
  },
  {
   "cell_type": "code",
   "execution_count": 111,
   "metadata": {},
   "outputs": [],
   "source": [
    "# replace missing values a.k.a 'N/A' values in the BMI column\n",
    "df['bmi'] = df['bmi'].fillna(df['bmi'].mean())"
   ]
  },
  {
   "cell_type": "code",
   "execution_count": 112,
   "metadata": {},
   "outputs": [
    {
     "data": {
      "text/html": [
       "<div>\n",
       "<style scoped>\n",
       "    .dataframe tbody tr th:only-of-type {\n",
       "        vertical-align: middle;\n",
       "    }\n",
       "\n",
       "    .dataframe tbody tr th {\n",
       "        vertical-align: top;\n",
       "    }\n",
       "\n",
       "    .dataframe thead th {\n",
       "        text-align: right;\n",
       "    }\n",
       "</style>\n",
       "<table border=\"1\" class=\"dataframe\">\n",
       "  <thead>\n",
       "    <tr style=\"text-align: right;\">\n",
       "      <th></th>\n",
       "      <th>gender</th>\n",
       "      <th>age</th>\n",
       "      <th>hypertension</th>\n",
       "      <th>heart_disease</th>\n",
       "      <th>ever_married</th>\n",
       "      <th>work_type</th>\n",
       "      <th>Residence_type</th>\n",
       "      <th>avg_glucose_level</th>\n",
       "      <th>bmi</th>\n",
       "      <th>smoking_status</th>\n",
       "      <th>stroke</th>\n",
       "    </tr>\n",
       "  </thead>\n",
       "  <tbody>\n",
       "    <tr>\n",
       "      <th>0</th>\n",
       "      <td>0</td>\n",
       "      <td>67.0</td>\n",
       "      <td>0</td>\n",
       "      <td>1</td>\n",
       "      <td>1</td>\n",
       "      <td>3</td>\n",
       "      <td>2</td>\n",
       "      <td>228.69</td>\n",
       "      <td>36.600000</td>\n",
       "      <td>1</td>\n",
       "      <td>1</td>\n",
       "    </tr>\n",
       "    <tr>\n",
       "      <th>1</th>\n",
       "      <td>1</td>\n",
       "      <td>61.0</td>\n",
       "      <td>0</td>\n",
       "      <td>0</td>\n",
       "      <td>1</td>\n",
       "      <td>4</td>\n",
       "      <td>1</td>\n",
       "      <td>202.21</td>\n",
       "      <td>28.893237</td>\n",
       "      <td>2</td>\n",
       "      <td>1</td>\n",
       "    </tr>\n",
       "    <tr>\n",
       "      <th>2</th>\n",
       "      <td>0</td>\n",
       "      <td>80.0</td>\n",
       "      <td>0</td>\n",
       "      <td>1</td>\n",
       "      <td>1</td>\n",
       "      <td>3</td>\n",
       "      <td>1</td>\n",
       "      <td>105.92</td>\n",
       "      <td>32.500000</td>\n",
       "      <td>2</td>\n",
       "      <td>1</td>\n",
       "    </tr>\n",
       "    <tr>\n",
       "      <th>3</th>\n",
       "      <td>1</td>\n",
       "      <td>49.0</td>\n",
       "      <td>0</td>\n",
       "      <td>0</td>\n",
       "      <td>1</td>\n",
       "      <td>3</td>\n",
       "      <td>2</td>\n",
       "      <td>171.23</td>\n",
       "      <td>34.400000</td>\n",
       "      <td>3</td>\n",
       "      <td>1</td>\n",
       "    </tr>\n",
       "    <tr>\n",
       "      <th>4</th>\n",
       "      <td>1</td>\n",
       "      <td>79.0</td>\n",
       "      <td>1</td>\n",
       "      <td>0</td>\n",
       "      <td>1</td>\n",
       "      <td>4</td>\n",
       "      <td>1</td>\n",
       "      <td>174.12</td>\n",
       "      <td>24.000000</td>\n",
       "      <td>2</td>\n",
       "      <td>1</td>\n",
       "    </tr>\n",
       "  </tbody>\n",
       "</table>\n",
       "</div>"
      ],
      "text/plain": [
       "   gender   age  hypertension  heart_disease  ever_married  work_type  \\\n",
       "0       0  67.0             0              1             1          3   \n",
       "1       1  61.0             0              0             1          4   \n",
       "2       0  80.0             0              1             1          3   \n",
       "3       1  49.0             0              0             1          3   \n",
       "4       1  79.0             1              0             1          4   \n",
       "\n",
       "   Residence_type  avg_glucose_level        bmi  smoking_status  stroke  \n",
       "0               2             228.69  36.600000               1       1  \n",
       "1               1             202.21  28.893237               2       1  \n",
       "2               1             105.92  32.500000               2       1  \n",
       "3               2             171.23  34.400000               3       1  \n",
       "4               1             174.12  24.000000               2       1  "
      ]
     },
     "execution_count": 112,
     "metadata": {},
     "output_type": "execute_result"
    }
   ],
   "source": [
    "# what did that do to a row with N/A in the BMI column? Check out row 1 and how it changed!\n",
    "df.head()"
   ]
  },
  {
   "cell_type": "code",
   "execution_count": 113,
   "metadata": {},
   "outputs": [
    {
     "data": {
      "text/plain": [
       "gender               0\n",
       "age                  0\n",
       "hypertension         0\n",
       "heart_disease        0\n",
       "ever_married         0\n",
       "work_type            0\n",
       "Residence_type       0\n",
       "avg_glucose_level    0\n",
       "bmi                  0\n",
       "smoking_status       0\n",
       "stroke               0\n",
       "dtype: int64"
      ]
     },
     "execution_count": 113,
     "metadata": {},
     "output_type": "execute_result"
    }
   ],
   "source": [
    "# check for null values\n",
    "df.isna().sum()"
   ]
  },
  {
   "cell_type": "code",
   "execution_count": 114,
   "metadata": {},
   "outputs": [
    {
     "data": {
      "text/plain": [
       "0"
      ]
     },
     "execution_count": 114,
     "metadata": {},
     "output_type": "execute_result"
    }
   ],
   "source": [
    "# check for duplicates\n",
    "dup = df.duplicated()\n",
    "dup.sum()"
   ]
  },
  {
   "cell_type": "markdown",
   "metadata": {},
   "source": [
    "## Splitting up the data\n",
    "#### Creating a trainning and test data set\n",
    "##### for X we are dropping stroke but using all of there other columns\n",
    "##### for y we are using just stroke"
   ]
  },
  {
   "cell_type": "code",
   "execution_count": 115,
   "metadata": {},
   "outputs": [],
   "source": [
    "X = df.drop(['stroke'], axis = 1)\n",
    "y = df.pop('stroke')"
   ]
  },
  {
   "cell_type": "markdown",
   "metadata": {},
   "source": [
    "## Creating the training and test sets\n",
    "#### Best practice is 70 to 80% for training and 20 to 30% test sizes\n",
    "#### Random_state = 10 will always keep the train and test samples the same, if not it will change every time"
   ]
  },
  {
   "cell_type": "code",
   "execution_count": 116,
   "metadata": {},
   "outputs": [],
   "source": [
    "X_train, X_test, y_train, y_test = train_test_split(X, y, test_size=0.30, random_state=1)"
   ]
  },
  {
   "cell_type": "code",
   "execution_count": 120,
   "metadata": {},
   "outputs": [],
   "source": [
    "## Scaling data\n",
    "sc = StandardScaler()\n",
    "\n",
    "X_train = sc.fit_transform(X_train)\n",
    "X_test = sc.transform(X_test)"
   ]
  },
  {
   "cell_type": "markdown",
   "metadata": {},
   "source": [
    "## MODELING (its model creating time!)\n",
    "#### 1) Logistic Regression\n",
    "#### 2) Linear Discriminant Analysis\n",
    "#### 3) Naive Bayes\n",
    "#### 4) Decision Tree\n",
    "#### 5) Random Forest"
   ]
  },
  {
   "cell_type": "markdown",
   "metadata": {},
   "source": [
    "## Logistic Regression"
   ]
  },
  {
   "cell_type": "code",
   "execution_count": 163,
   "metadata": {},
   "outputs": [
    {
     "name": "stdout",
     "output_type": "stream",
     "text": [
      "Accuracy on Train set 0.9535923958624546\n",
      "Accuracy on Test set 0.9458577951728636\n",
      "F1-score on Test set: 0.0\n",
      "              precision    recall  f1-score   support\n",
      "\n",
      "           0       0.95      1.00      0.97      1450\n",
      "           1       0.00      0.00      0.00        83\n",
      "\n",
      "    accuracy                           0.95      1533\n",
      "   macro avg       0.47      0.50      0.49      1533\n",
      "weighted avg       0.89      0.95      0.92      1533\n",
      "\n"
     ]
    },
    {
     "name": "stderr",
     "output_type": "stream",
     "text": [
      "C:\\Users\\kaden\\anaconda3\\lib\\site-packages\\sklearn\\metrics\\_classification.py:1221: UndefinedMetricWarning: Precision and F-score are ill-defined and being set to 0.0 in labels with no predicted samples. Use `zero_division` parameter to control this behavior.\n",
      "  _warn_prf(average, modifier, msg_start, len(result))\n"
     ]
    }
   ],
   "source": [
    "from sklearn.linear_model import LogisticRegression\n",
    "\n",
    "LR_model = LogisticRegression(max_iter=2000)\n",
    "\n",
    "# fit the model\n",
    "LR_model.fit(X_train, y_train)\n",
    "\n",
    "y_predict_LR = LR_model.predict(X_test)\n",
    "\n",
    "# model score\n",
    "predict_train_LR = LR_model.predict(X_train)\n",
    "predict_test_LR = LR_model.predict(X_test)\n",
    "\n",
    "# accuracy score\n",
    "LR_train_score = LR_model.score(X_train,y_train)\n",
    "LR_test_score = LR_model.score(X_test,y_test)\n",
    "\n",
    "# f1-score\n",
    "LR_f1_score = metrics.f1_score(y_test,predict_test_LR)\n",
    "LR_recall = metrics.recall_score(y_test,predict_test_LR)\n",
    "\n",
    "print('Accuracy on Train set',LR_train_score)\n",
    "print('Accuracy on Test set',LR_test_score)\n",
    "print('F1-score on Test set:',LR_f1_score)\n",
    "print(metrics.classification_report(y_test, predict_test_LR))"
   ]
  },
  {
   "cell_type": "markdown",
   "metadata": {},
   "source": [
    "## Linear Discriminant Analysis"
   ]
  },
  {
   "cell_type": "code",
   "execution_count": 149,
   "metadata": {},
   "outputs": [
    {
     "name": "stdout",
     "output_type": "stream",
     "text": [
      "Accuracy on Train set 0.9510763209393346\n",
      "Accuracy on Test set 0.9399869536855838\n",
      "F1-score on Test set: 0.08\n",
      "              precision    recall  f1-score   support\n",
      "\n",
      "           0       0.95      0.99      0.97      1450\n",
      "           1       0.24      0.05      0.08        83\n",
      "\n",
      "    accuracy                           0.94      1533\n",
      "   macro avg       0.59      0.52      0.52      1533\n",
      "weighted avg       0.91      0.94      0.92      1533\n",
      "\n"
     ]
    }
   ],
   "source": [
    "from sklearn.discriminant_analysis import LinearDiscriminantAnalysis\n",
    "\n",
    "\n",
    "LDA = LinearDiscriminantAnalysis(solver='svd')\n",
    "\n",
    "# fit the model\n",
    "LDA.fit(X_train, y_train)\n",
    "\n",
    "y_predict_LDA = LDA.predict(X_test)\n",
    "\n",
    "# model score\n",
    "predict_train_LDA = LDA.predict(X_train)\n",
    "predict_test_LDA = LDA.predict(X_test)\n",
    "\n",
    "# accuracy score\n",
    "LDA_train_score = LDA.score(X_train,y_train)\n",
    "LDA_test_score = LDA.score(X_test,y_test)\n",
    "\n",
    "# f1-score\n",
    "LDA_f1_score = metrics.f1_score(y_test,predict_test_LDA)\n",
    "LDA_recall = metrics.recall_score(y_test, predict_test_LDA)\n",
    "\n",
    "print('Accuracy on Train set',LDA_train_score)\n",
    "print('Accuracy on Test set',LDA_test_score)\n",
    "print('F1-score on Test set:',LDA_f1_score)\n",
    "print(metrics.classification_report(y_test, predict_test_LDA))"
   ]
  },
  {
   "cell_type": "markdown",
   "metadata": {},
   "source": [
    "## Naive Bayes"
   ]
  },
  {
   "cell_type": "code",
   "execution_count": 150,
   "metadata": {},
   "outputs": [
    {
     "name": "stdout",
     "output_type": "stream",
     "text": [
      "Accuracy on Train set 0.8702823595191501\n",
      "Accuracy on Test set 0.8714938030006523\n",
      "F1-score on Test set: 0.2676579925650558\n",
      "              precision    recall  f1-score   support\n",
      "\n",
      "           0       0.97      0.90      0.93      1450\n",
      "           1       0.19      0.43      0.27        83\n",
      "\n",
      "    accuracy                           0.87      1533\n",
      "   macro avg       0.58      0.67      0.60      1533\n",
      "weighted avg       0.92      0.87      0.89      1533\n",
      "\n"
     ]
    }
   ],
   "source": [
    "from sklearn.naive_bayes import GaussianNB\n",
    "\n",
    "NB_model = GaussianNB()\n",
    "\n",
    "# fit the model\n",
    "NB_model.fit(X_train, y_train)\n",
    "\n",
    "y_predict_NB = NB_model.predict(X_test)\n",
    "\n",
    "# model score\n",
    "predict_train_NB = NB_model.predict(X_train)\n",
    "predict_test_NB = NB_model.predict(X_test)\n",
    "\n",
    "# accuracy score\n",
    "NB_train_score = NB_model.score(X_train,y_train)\n",
    "NB_test_score = NB_model.score(X_test,y_test)\n",
    "\n",
    "# f1-score\n",
    "NB_f1_score = metrics.f1_score(y_test,predict_test_NB)\n",
    "NB_recall = metrics.recall_score(y_test, predict_test_NB)\n",
    "\n",
    "print('Accuracy on Train set',NB_train_score)\n",
    "print('Accuracy on Test set',NB_test_score)\n",
    "print('F1-score on Test set:',NB_f1_score)\n",
    "print(metrics.classification_report(y_test, predict_test_NB))"
   ]
  },
  {
   "cell_type": "markdown",
   "metadata": {},
   "source": [
    "## Decision Tree"
   ]
  },
  {
   "cell_type": "code",
   "execution_count": 151,
   "metadata": {},
   "outputs": [
    {
     "name": "stdout",
     "output_type": "stream",
     "text": [
      "Accuracy on Train set 1.0\n",
      "Accuracy on Test set 0.9099804305283757\n",
      "F1-score on Test set: 0.1038961038961039\n",
      "\n",
      "\n",
      "              precision    recall  f1-score   support\n",
      "\n",
      "           0       0.95      0.96      0.95      1450\n",
      "           1       0.11      0.10      0.10        83\n",
      "\n",
      "    accuracy                           0.91      1533\n",
      "   macro avg       0.53      0.53      0.53      1533\n",
      "weighted avg       0.90      0.91      0.91      1533\n",
      "\n"
     ]
    }
   ],
   "source": [
    "from sklearn.tree import DecisionTreeClassifier\n",
    "\n",
    "DT_model= DecisionTreeClassifier()\n",
    "\n",
    "# fit the model\n",
    "DT_model.fit(X_train,y_train)\n",
    "\n",
    "# model score\n",
    "predict_train_DT = DT_model.predict(X_train)\n",
    "predict_test_DT = DT_model.predict(X_test)\n",
    "\n",
    "# accuracy score\n",
    "DT_train_score = DT_model.score(X_train,y_train)\n",
    "DT_test_score = DT_model.score(X_test,y_test)\n",
    "\n",
    "# f1-score\n",
    "DT_f1_score = metrics.f1_score(y_test, predict_test_DT)\n",
    "\n",
    "print('Accuracy on Train set',DT_train_score)\n",
    "print('Accuracy on Test set',DT_test_score)\n",
    "print('F1-score on Test set:',DT_f1_score)\n",
    "print('\\n')\n",
    "print(metrics.classification_report(y_test, predict_test_DT))"
   ]
  },
  {
   "cell_type": "markdown",
   "metadata": {},
   "source": [
    "## Random Forest"
   ]
  },
  {
   "cell_type": "code",
   "execution_count": 152,
   "metadata": {},
   "outputs": [
    {
     "name": "stdout",
     "output_type": "stream",
     "text": [
      "Accuracy on Train set 1.0\n",
      "Accuracy on Test set 0.9445531637312459\n",
      "F1-score on Test set: 0.0\n",
      "              precision    recall  f1-score   support\n",
      "\n",
      "           0       0.95      1.00      0.97      1450\n",
      "           1       0.00      0.00      0.00        83\n",
      "\n",
      "    accuracy                           0.94      1533\n",
      "   macro avg       0.47      0.50      0.49      1533\n",
      "weighted avg       0.89      0.94      0.92      1533\n",
      "\n"
     ]
    }
   ],
   "source": [
    "from sklearn.ensemble import RandomForestClassifier\n",
    "\n",
    "# create object model\n",
    "RF_model = RandomForestClassifier()\n",
    "\n",
    "# fit the model\n",
    "RF_model.fit(X_train,y_train)\n",
    "\n",
    "# model score\n",
    "predict_train_RF = RF_model.predict(X_train)\n",
    "predict_test_RF = RF_model.predict(X_test)\n",
    "\n",
    "# accuracy score\n",
    "RF_train_score = RF_model.score(X_train,y_train)\n",
    "RF_test_score = RF_model.score(X_test,y_test)\n",
    "\n",
    "# f1-score\n",
    "RF_f1_score = metrics.f1_score(y_test,predict_test_RF)\n",
    "\n",
    "print('Accuracy on Train set',RF_train_score)\n",
    "print('Accuracy on Test set',RF_test_score)\n",
    "print('F1-score on Test set:',RF_f1_score)\n",
    "print(metrics.classification_report(y_test,predict_test_RF))"
   ]
  },
  {
   "cell_type": "markdown",
   "metadata": {},
   "source": [
    "## TUNING EACH MODEL\n",
    "\n",
    "#### 1) Decision Tree\n",
    "#### 2) Random Forest"
   ]
  },
  {
   "cell_type": "markdown",
   "metadata": {},
   "source": [
    "## Tuning for Decision Tree"
   ]
  },
  {
   "cell_type": "code",
   "execution_count": 153,
   "metadata": {},
   "outputs": [
    {
     "data": {
      "text/plain": [
       "GridSearchCV(cv=3, estimator=RandomForestClassifier(),\n",
       "             param_grid={'max_depth': [7, 10], 'max_features': [4, 5, 6],\n",
       "                         'min_samples_leaf': [20, 30],\n",
       "                         'min_samples_split': [90, 100]})"
      ]
     },
     "execution_count": 153,
     "metadata": {},
     "output_type": "execute_result"
    }
   ],
   "source": [
    "from sklearn.model_selection import GridSearchCV\n",
    "\n",
    "#\"\"\"\n",
    "parameters= {'max_depth':[7,10],\n",
    "            'max_features':[4,5,6],\n",
    "            'min_samples_split' : [90,100],\n",
    "            'min_samples_leaf' : [20,30]}\n",
    "\n",
    "\n",
    "DT = RandomForestClassifier()\n",
    "\n",
    "DT_model_tune = GridSearchCV(DT, param_grid = parameters, cv=3)\n",
    "\n",
    "DT_model_tune.fit(X_train,y_train)"
   ]
  },
  {
   "cell_type": "code",
   "execution_count": 154,
   "metadata": {},
   "outputs": [
    {
     "data": {
      "text/plain": [
       "{'max_depth': 7,\n",
       " 'max_features': 4,\n",
       " 'min_samples_leaf': 20,\n",
       " 'min_samples_split': 90}"
      ]
     },
     "execution_count": 154,
     "metadata": {},
     "output_type": "execute_result"
    }
   ],
   "source": [
    "DT_model_tune.best_params_"
   ]
  },
  {
   "cell_type": "code",
   "execution_count": 155,
   "metadata": {},
   "outputs": [
    {
     "name": "stdout",
     "output_type": "stream",
     "text": [
      "Accuracy on Train set 0.9535923958624546\n",
      "Accuracy on Test set 0.9458577951728636\n",
      "F1-score on Test set: 0.0\n",
      "\n",
      "\n",
      "              precision    recall  f1-score   support\n",
      "\n",
      "           0       0.95      1.00      0.97      1450\n",
      "           1       0.00      0.00      0.00        83\n",
      "\n",
      "    accuracy                           0.95      1533\n",
      "   macro avg       0.47      0.50      0.49      1533\n",
      "weighted avg       0.89      0.95      0.92      1533\n",
      "\n"
     ]
    },
    {
     "name": "stderr",
     "output_type": "stream",
     "text": [
      "C:\\Users\\kaden\\anaconda3\\lib\\site-packages\\sklearn\\metrics\\_classification.py:1221: UndefinedMetricWarning: Precision and F-score are ill-defined and being set to 0.0 in labels with no predicted samples. Use `zero_division` parameter to control this behavior.\n",
      "  _warn_prf(average, modifier, msg_start, len(result))\n"
     ]
    }
   ],
   "source": [
    "DT_model_tune= DecisionTreeClassifier(min_samples_split=90,min_samples_leaf= 20,\n",
    " max_features= 6,max_depth=10)\n",
    "\n",
    "# fit the model\n",
    "DT_model_tune.fit(X_train,y_train)\n",
    "\n",
    "# model score\n",
    "predict_train_DT = DT_model_tune.predict(X_train)\n",
    "predict_test_DT = DT_model_tune.predict(X_test)\n",
    "\n",
    "# accuracy score\n",
    "DT_train_score = DT_model_tune.score(X_train,y_train)\n",
    "DT_test_score = DT_model_tune.score(X_test,y_test)\n",
    "\n",
    "# f1-score\n",
    "DT_f1_score = metrics.f1_score(y_test, predict_test_DT)\n",
    "DT_recall = metrics.recall_score(y_test, predict_test_DT)\n",
    "\n",
    "print('Accuracy on Train set',DT_train_score)\n",
    "print('Accuracy on Test set',DT_test_score)\n",
    "print('F1-score on Test set:',DT_f1_score)\n",
    "print('\\n')\n",
    "print(metrics.classification_report(y_test, predict_test_DT))"
   ]
  },
  {
   "cell_type": "markdown",
   "metadata": {},
   "source": [
    "## Tuning for Random Forest"
   ]
  },
  {
   "cell_type": "code",
   "execution_count": 156,
   "metadata": {},
   "outputs": [
    {
     "name": "stdout",
     "output_type": "stream",
     "text": [
      "Fitting 3 folds for each of 20 candidates, totalling 60 fits\n",
      "[CV] n_estimators=500, min_samples_split=100, min_samples_leaf=40, max_features=5, max_depth=10 \n"
     ]
    },
    {
     "name": "stderr",
     "output_type": "stream",
     "text": [
      "[Parallel(n_jobs=1)]: Using backend SequentialBackend with 1 concurrent workers.\n"
     ]
    },
    {
     "name": "stdout",
     "output_type": "stream",
     "text": [
      "[CV]  n_estimators=500, min_samples_split=100, min_samples_leaf=40, max_features=5, max_depth=10, total=   2.6s\n",
      "[CV] n_estimators=500, min_samples_split=100, min_samples_leaf=40, max_features=5, max_depth=10 \n"
     ]
    },
    {
     "name": "stderr",
     "output_type": "stream",
     "text": [
      "[Parallel(n_jobs=1)]: Done   1 out of   1 | elapsed:    2.5s remaining:    0.0s\n"
     ]
    },
    {
     "name": "stdout",
     "output_type": "stream",
     "text": [
      "[CV]  n_estimators=500, min_samples_split=100, min_samples_leaf=40, max_features=5, max_depth=10, total=   2.5s\n",
      "[CV] n_estimators=500, min_samples_split=100, min_samples_leaf=40, max_features=5, max_depth=10 \n",
      "[CV]  n_estimators=500, min_samples_split=100, min_samples_leaf=40, max_features=5, max_depth=10, total=   2.4s\n",
      "[CV] n_estimators=500, min_samples_split=150, min_samples_leaf=40, max_features=5, max_depth=7 \n",
      "[CV]  n_estimators=500, min_samples_split=150, min_samples_leaf=40, max_features=5, max_depth=7, total=   2.3s\n",
      "[CV] n_estimators=500, min_samples_split=150, min_samples_leaf=40, max_features=5, max_depth=7 \n",
      "[CV]  n_estimators=500, min_samples_split=150, min_samples_leaf=40, max_features=5, max_depth=7, total=   2.2s\n",
      "[CV] n_estimators=500, min_samples_split=150, min_samples_leaf=40, max_features=5, max_depth=7 \n",
      "[CV]  n_estimators=500, min_samples_split=150, min_samples_leaf=40, max_features=5, max_depth=7, total=   2.0s\n",
      "[CV] n_estimators=400, min_samples_split=100, min_samples_leaf=30, max_features=5, max_depth=10 \n",
      "[CV]  n_estimators=400, min_samples_split=100, min_samples_leaf=30, max_features=5, max_depth=10, total=   1.8s\n",
      "[CV] n_estimators=400, min_samples_split=100, min_samples_leaf=30, max_features=5, max_depth=10 \n",
      "[CV]  n_estimators=400, min_samples_split=100, min_samples_leaf=30, max_features=5, max_depth=10, total=   1.7s\n",
      "[CV] n_estimators=400, min_samples_split=100, min_samples_leaf=30, max_features=5, max_depth=10 \n",
      "[CV]  n_estimators=400, min_samples_split=100, min_samples_leaf=30, max_features=5, max_depth=10, total=   1.6s\n",
      "[CV] n_estimators=500, min_samples_split=100, min_samples_leaf=30, max_features=4, max_depth=10 \n",
      "[CV]  n_estimators=500, min_samples_split=100, min_samples_leaf=30, max_features=4, max_depth=10, total=   2.0s\n",
      "[CV] n_estimators=500, min_samples_split=100, min_samples_leaf=30, max_features=4, max_depth=10 \n",
      "[CV]  n_estimators=500, min_samples_split=100, min_samples_leaf=30, max_features=4, max_depth=10, total=   2.0s\n",
      "[CV] n_estimators=500, min_samples_split=100, min_samples_leaf=30, max_features=4, max_depth=10 \n",
      "[CV]  n_estimators=500, min_samples_split=100, min_samples_leaf=30, max_features=4, max_depth=10, total=   2.1s\n",
      "[CV] n_estimators=400, min_samples_split=100, min_samples_leaf=30, max_features=5, max_depth=7 \n",
      "[CV]  n_estimators=400, min_samples_split=100, min_samples_leaf=30, max_features=5, max_depth=7, total=   2.6s\n",
      "[CV] n_estimators=400, min_samples_split=100, min_samples_leaf=30, max_features=5, max_depth=7 \n",
      "[CV]  n_estimators=400, min_samples_split=100, min_samples_leaf=30, max_features=5, max_depth=7, total=   2.1s\n",
      "[CV] n_estimators=400, min_samples_split=100, min_samples_leaf=30, max_features=5, max_depth=7 \n",
      "[CV]  n_estimators=400, min_samples_split=100, min_samples_leaf=30, max_features=5, max_depth=7, total=   2.1s\n",
      "[CV] n_estimators=500, min_samples_split=100, min_samples_leaf=30, max_features=5, max_depth=7 \n",
      "[CV]  n_estimators=500, min_samples_split=100, min_samples_leaf=30, max_features=5, max_depth=7, total=   2.1s\n",
      "[CV] n_estimators=500, min_samples_split=100, min_samples_leaf=30, max_features=5, max_depth=7 \n",
      "[CV]  n_estimators=500, min_samples_split=100, min_samples_leaf=30, max_features=5, max_depth=7, total=   2.1s\n",
      "[CV] n_estimators=500, min_samples_split=100, min_samples_leaf=30, max_features=5, max_depth=7 \n",
      "[CV]  n_estimators=500, min_samples_split=100, min_samples_leaf=30, max_features=5, max_depth=7, total=   2.0s\n",
      "[CV] n_estimators=400, min_samples_split=150, min_samples_leaf=40, max_features=5, max_depth=10 \n",
      "[CV]  n_estimators=400, min_samples_split=150, min_samples_leaf=40, max_features=5, max_depth=10, total=   1.6s\n",
      "[CV] n_estimators=400, min_samples_split=150, min_samples_leaf=40, max_features=5, max_depth=10 \n",
      "[CV]  n_estimators=400, min_samples_split=150, min_samples_leaf=40, max_features=5, max_depth=10, total=   1.6s\n",
      "[CV] n_estimators=400, min_samples_split=150, min_samples_leaf=40, max_features=5, max_depth=10 \n",
      "[CV]  n_estimators=400, min_samples_split=150, min_samples_leaf=40, max_features=5, max_depth=10, total=   1.7s\n",
      "[CV] n_estimators=500, min_samples_split=100, min_samples_leaf=30, max_features=5, max_depth=10 \n",
      "[CV]  n_estimators=500, min_samples_split=100, min_samples_leaf=30, max_features=5, max_depth=10, total=   2.4s\n",
      "[CV] n_estimators=500, min_samples_split=100, min_samples_leaf=30, max_features=5, max_depth=10 \n",
      "[CV]  n_estimators=500, min_samples_split=100, min_samples_leaf=30, max_features=5, max_depth=10, total=   2.1s\n",
      "[CV] n_estimators=500, min_samples_split=100, min_samples_leaf=30, max_features=5, max_depth=10 \n",
      "[CV]  n_estimators=500, min_samples_split=100, min_samples_leaf=30, max_features=5, max_depth=10, total=   2.6s\n",
      "[CV] n_estimators=400, min_samples_split=100, min_samples_leaf=40, max_features=5, max_depth=7 \n",
      "[CV]  n_estimators=400, min_samples_split=100, min_samples_leaf=40, max_features=5, max_depth=7, total=   1.7s\n",
      "[CV] n_estimators=400, min_samples_split=100, min_samples_leaf=40, max_features=5, max_depth=7 \n",
      "[CV]  n_estimators=400, min_samples_split=100, min_samples_leaf=40, max_features=5, max_depth=7, total=   1.8s\n",
      "[CV] n_estimators=400, min_samples_split=100, min_samples_leaf=40, max_features=5, max_depth=7 \n",
      "[CV]  n_estimators=400, min_samples_split=100, min_samples_leaf=40, max_features=5, max_depth=7, total=   1.7s\n",
      "[CV] n_estimators=400, min_samples_split=100, min_samples_leaf=30, max_features=4, max_depth=7 \n",
      "[CV]  n_estimators=400, min_samples_split=100, min_samples_leaf=30, max_features=4, max_depth=7, total=   1.7s\n",
      "[CV] n_estimators=400, min_samples_split=100, min_samples_leaf=30, max_features=4, max_depth=7 \n",
      "[CV]  n_estimators=400, min_samples_split=100, min_samples_leaf=30, max_features=4, max_depth=7, total=   1.8s\n",
      "[CV] n_estimators=400, min_samples_split=100, min_samples_leaf=30, max_features=4, max_depth=7 \n",
      "[CV]  n_estimators=400, min_samples_split=100, min_samples_leaf=30, max_features=4, max_depth=7, total=   1.6s\n",
      "[CV] n_estimators=400, min_samples_split=100, min_samples_leaf=40, max_features=4, max_depth=7 \n",
      "[CV]  n_estimators=400, min_samples_split=100, min_samples_leaf=40, max_features=4, max_depth=7, total=   1.6s\n",
      "[CV] n_estimators=400, min_samples_split=100, min_samples_leaf=40, max_features=4, max_depth=7 \n",
      "[CV]  n_estimators=400, min_samples_split=100, min_samples_leaf=40, max_features=4, max_depth=7, total=   1.5s\n",
      "[CV] n_estimators=400, min_samples_split=100, min_samples_leaf=40, max_features=4, max_depth=7 \n",
      "[CV]  n_estimators=400, min_samples_split=100, min_samples_leaf=40, max_features=4, max_depth=7, total=   1.5s\n",
      "[CV] n_estimators=400, min_samples_split=100, min_samples_leaf=30, max_features=4, max_depth=10 \n",
      "[CV]  n_estimators=400, min_samples_split=100, min_samples_leaf=30, max_features=4, max_depth=10, total=   1.6s\n",
      "[CV] n_estimators=400, min_samples_split=100, min_samples_leaf=30, max_features=4, max_depth=10 \n",
      "[CV]  n_estimators=400, min_samples_split=100, min_samples_leaf=30, max_features=4, max_depth=10, total=   1.7s\n",
      "[CV] n_estimators=400, min_samples_split=100, min_samples_leaf=30, max_features=4, max_depth=10 \n",
      "[CV]  n_estimators=400, min_samples_split=100, min_samples_leaf=30, max_features=4, max_depth=10, total=   1.6s\n",
      "[CV] n_estimators=500, min_samples_split=100, min_samples_leaf=40, max_features=4, max_depth=7 \n",
      "[CV]  n_estimators=500, min_samples_split=100, min_samples_leaf=40, max_features=4, max_depth=7, total=   1.9s\n",
      "[CV] n_estimators=500, min_samples_split=100, min_samples_leaf=40, max_features=4, max_depth=7 \n",
      "[CV]  n_estimators=500, min_samples_split=100, min_samples_leaf=40, max_features=4, max_depth=7, total=   2.1s\n",
      "[CV] n_estimators=500, min_samples_split=100, min_samples_leaf=40, max_features=4, max_depth=7 \n",
      "[CV]  n_estimators=500, min_samples_split=100, min_samples_leaf=40, max_features=4, max_depth=7, total=   1.9s\n",
      "[CV] n_estimators=500, min_samples_split=100, min_samples_leaf=40, max_features=5, max_depth=7 \n",
      "[CV]  n_estimators=500, min_samples_split=100, min_samples_leaf=40, max_features=5, max_depth=7, total=   2.1s\n",
      "[CV] n_estimators=500, min_samples_split=100, min_samples_leaf=40, max_features=5, max_depth=7 \n",
      "[CV]  n_estimators=500, min_samples_split=100, min_samples_leaf=40, max_features=5, max_depth=7, total=   2.0s\n",
      "[CV] n_estimators=500, min_samples_split=100, min_samples_leaf=40, max_features=5, max_depth=7 \n",
      "[CV]  n_estimators=500, min_samples_split=100, min_samples_leaf=40, max_features=5, max_depth=7, total=   2.0s\n",
      "[CV] n_estimators=500, min_samples_split=150, min_samples_leaf=30, max_features=5, max_depth=7 \n",
      "[CV]  n_estimators=500, min_samples_split=150, min_samples_leaf=30, max_features=5, max_depth=7, total=   2.0s\n",
      "[CV] n_estimators=500, min_samples_split=150, min_samples_leaf=30, max_features=5, max_depth=7 \n",
      "[CV]  n_estimators=500, min_samples_split=150, min_samples_leaf=30, max_features=5, max_depth=7, total=   2.0s\n",
      "[CV] n_estimators=500, min_samples_split=150, min_samples_leaf=30, max_features=5, max_depth=7 \n",
      "[CV]  n_estimators=500, min_samples_split=150, min_samples_leaf=30, max_features=5, max_depth=7, total=   2.0s\n",
      "[CV] n_estimators=500, min_samples_split=150, min_samples_leaf=40, max_features=4, max_depth=10 \n",
      "[CV]  n_estimators=500, min_samples_split=150, min_samples_leaf=40, max_features=4, max_depth=10, total=   1.9s\n",
      "[CV] n_estimators=500, min_samples_split=150, min_samples_leaf=40, max_features=4, max_depth=10 \n",
      "[CV]  n_estimators=500, min_samples_split=150, min_samples_leaf=40, max_features=4, max_depth=10, total=   1.9s\n",
      "[CV] n_estimators=500, min_samples_split=150, min_samples_leaf=40, max_features=4, max_depth=10 \n",
      "[CV]  n_estimators=500, min_samples_split=150, min_samples_leaf=40, max_features=4, max_depth=10, total=   1.8s\n",
      "[CV] n_estimators=500, min_samples_split=100, min_samples_leaf=30, max_features=4, max_depth=7 \n",
      "[CV]  n_estimators=500, min_samples_split=100, min_samples_leaf=30, max_features=4, max_depth=7, total=   1.9s\n",
      "[CV] n_estimators=500, min_samples_split=100, min_samples_leaf=30, max_features=4, max_depth=7 \n",
      "[CV]  n_estimators=500, min_samples_split=100, min_samples_leaf=30, max_features=4, max_depth=7, total=   1.9s\n",
      "[CV] n_estimators=500, min_samples_split=100, min_samples_leaf=30, max_features=4, max_depth=7 \n",
      "[CV]  n_estimators=500, min_samples_split=100, min_samples_leaf=30, max_features=4, max_depth=7, total=   1.9s\n",
      "[CV] n_estimators=400, min_samples_split=150, min_samples_leaf=30, max_features=4, max_depth=7 \n",
      "[CV]  n_estimators=400, min_samples_split=150, min_samples_leaf=30, max_features=4, max_depth=7, total=   1.5s\n",
      "[CV] n_estimators=400, min_samples_split=150, min_samples_leaf=30, max_features=4, max_depth=7 \n",
      "[CV]  n_estimators=400, min_samples_split=150, min_samples_leaf=30, max_features=4, max_depth=7, total=   1.5s\n",
      "[CV] n_estimators=400, min_samples_split=150, min_samples_leaf=30, max_features=4, max_depth=7 \n",
      "[CV]  n_estimators=400, min_samples_split=150, min_samples_leaf=30, max_features=4, max_depth=7, total=   1.5s\n",
      "[CV] n_estimators=400, min_samples_split=150, min_samples_leaf=30, max_features=5, max_depth=10 \n",
      "[CV]  n_estimators=400, min_samples_split=150, min_samples_leaf=30, max_features=5, max_depth=10, total=   1.6s\n",
      "[CV] n_estimators=400, min_samples_split=150, min_samples_leaf=30, max_features=5, max_depth=10 \n",
      "[CV]  n_estimators=400, min_samples_split=150, min_samples_leaf=30, max_features=5, max_depth=10, total=   1.8s\n",
      "[CV] n_estimators=400, min_samples_split=150, min_samples_leaf=30, max_features=5, max_depth=10 \n",
      "[CV]  n_estimators=400, min_samples_split=150, min_samples_leaf=30, max_features=5, max_depth=10, total=   1.6s\n",
      "[CV] n_estimators=500, min_samples_split=150, min_samples_leaf=30, max_features=4, max_depth=7 \n",
      "[CV]  n_estimators=500, min_samples_split=150, min_samples_leaf=30, max_features=4, max_depth=7, total=   2.0s\n",
      "[CV] n_estimators=500, min_samples_split=150, min_samples_leaf=30, max_features=4, max_depth=7 \n",
      "[CV]  n_estimators=500, min_samples_split=150, min_samples_leaf=30, max_features=4, max_depth=7, total=   2.0s\n",
      "[CV] n_estimators=500, min_samples_split=150, min_samples_leaf=30, max_features=4, max_depth=7 \n",
      "[CV]  n_estimators=500, min_samples_split=150, min_samples_leaf=30, max_features=4, max_depth=7, total=   1.8s\n"
     ]
    },
    {
     "name": "stderr",
     "output_type": "stream",
     "text": [
      "[Parallel(n_jobs=1)]: Done  60 out of  60 | elapsed:  1.9min finished\n"
     ]
    },
    {
     "data": {
      "text/plain": [
       "RandomizedSearchCV(cv=3, estimator=RandomForestClassifier(), n_iter=20,\n",
       "                   param_distributions={'max_depth': [7, 10],\n",
       "                                        'max_features': [4, 5],\n",
       "                                        'min_samples_leaf': [30, 40],\n",
       "                                        'min_samples_split': [100, 150],\n",
       "                                        'n_estimators': [400, 500]},\n",
       "                   random_state=42, verbose=2)"
      ]
     },
     "execution_count": 156,
     "metadata": {},
     "output_type": "execute_result"
    }
   ],
   "source": [
    "from sklearn.model_selection import RandomizedSearchCV\n",
    "\n",
    "# to get best parameters\n",
    "\n",
    "# fine Tune the model using RandomizedSearchCV\n",
    "\n",
    "#\"\"\"\n",
    "parameters= {'n_estimators':[400,500],\n",
    "            'max_depth':[7,10],\n",
    "            'max_features':[4,5],\n",
    "            'min_samples_split' : [100,150],\n",
    "            'min_samples_leaf' : [30,40]}\n",
    "\n",
    "\n",
    "rf = RandomForestClassifier()\n",
    "\n",
    "rf_model_tune = RandomizedSearchCV(rf, param_distributions = parameters, cv=3,n_iter = 20, verbose=2, random_state=42)\n",
    "\n",
    "rf_model_tune.fit(X_train,y_train)\n",
    "\n",
    "#\"\"\""
   ]
  },
  {
   "cell_type": "code",
   "execution_count": 157,
   "metadata": {},
   "outputs": [
    {
     "name": "stdout",
     "output_type": "stream",
     "text": [
      "Accuracy on Train set 0.9535923958624546\n",
      "Accuracy on Test set 0.9458577951728636\n",
      "F1-score on Test set: 0.0\n",
      "              precision    recall  f1-score   support\n",
      "\n",
      "           0       0.95      1.00      0.97      1450\n",
      "           1       0.00      0.00      0.00        83\n",
      "\n",
      "    accuracy                           0.95      1533\n",
      "   macro avg       0.47      0.50      0.49      1533\n",
      "weighted avg       0.89      0.95      0.92      1533\n",
      "\n"
     ]
    },
    {
     "name": "stderr",
     "output_type": "stream",
     "text": [
      "C:\\Users\\kaden\\anaconda3\\lib\\site-packages\\sklearn\\metrics\\_classification.py:1221: UndefinedMetricWarning: Precision and F-score are ill-defined and being set to 0.0 in labels with no predicted samples. Use `zero_division` parameter to control this behavior.\n",
      "  _warn_prf(average, modifier, msg_start, len(result))\n"
     ]
    }
   ],
   "source": [
    "# finding best parameters are iterative process\n",
    "\n",
    "## n_estimators= 400,min_samples_split= 100,min_samples_leaf=30,max_features= 6,max_depth=11,bootstrap= False ## f1-score .228\n",
    "\n",
    "# create object model\n",
    "RF_model = RandomForestClassifier(n_estimators= 400,min_samples_split= 100,min_samples_leaf=30,max_features= 6,max_depth=11,bootstrap= False)\n",
    "\n",
    "# fit the model\n",
    "RF_model.fit(X_train,y_train)\n",
    "\n",
    "# model score\n",
    "predict_train_RF = RF_model.predict(X_train)\n",
    "predict_test_RF = RF_model.predict(X_test)\n",
    "\n",
    "# accuracy score\n",
    "RF_train_score = RF_model.score(X_train,y_train)\n",
    "RF_test_score = RF_model.score(X_test,y_test)\n",
    "\n",
    "# f1-score\n",
    "RF_f1_score = metrics.f1_score(y_test,predict_test_RF)\n",
    "RF_recall = metrics.recall_score(y_test,predict_test_RF)\n",
    "print('Accuracy on Train set',RF_train_score)\n",
    "print('Accuracy on Test set',RF_test_score)\n",
    "print('F1-score on Test set:',RF_f1_score)\n",
    "print(metrics.classification_report(y_test,predict_test_RF))"
   ]
  },
  {
   "cell_type": "markdown",
   "metadata": {},
   "source": [
    "## A graph to identify feature importance of Random Forest"
   ]
  },
  {
   "cell_type": "code",
   "execution_count": 158,
   "metadata": {},
   "outputs": [
    {
     "data": {
      "image/png": "[encoded data removed]",
      "text/plain": [
       "<Figure size 720x432 with 1 Axes>"
      ]
     },
     "metadata": {},
     "output_type": "display_data"
    }
   ],
   "source": [
    "feature_score = pd.DataFrame(RF_model.feature_importances_, index =df.columns,  columns=['Feature_importance']).sort_values('Feature_importance', ascending=False)\n",
    "\n",
    "plt.rcParams.update({'font.size': 22})\n",
    "plt.style.use('fivethirtyeight')\n",
    "feature_score.plot(kind='bar',figsize=(10,6));\n",
    "plt.xticks(rotation=70);\n",
    "plt.title('Feature Importance Random forest');"
   ]
  },
  {
   "cell_type": "markdown",
   "metadata": {},
   "source": [
    "## MODEL COMPARISON"
   ]
  },
  {
   "cell_type": "code",
   "execution_count": 159,
   "metadata": {},
   "outputs": [],
   "source": [
    "model_compare = pd.DataFrame({\n",
    "    \n",
    "'Models':['Desicion Tree','RandomForestClassifier','LogisticRegression','LinearDiscriminantAnalysis','Naive_Bayes'],\n",
    "'f1_score':[DT_f1_score, RF_f1_score, LR_f1_score, LDA_f1_score, NB_f1_score],\n",
    "'recall':[DT_recall, RF_recall, LR_recall, LDA_recall, NB_recall],\n",
    "'Accuracy on train set':[DT_train_score,RF_train_score,LR_train_score,LDA_train_score,NB_train_score],\n",
    "'Accuracy on test set':[DT_test_score, RF_test_score,LR_test_score,LDA_test_score,NB_test_score]\n",
    "\n",
    "})\n",
    "\n",
    "model_compare = model_compare.sort_values('recall',ascending=False)"
   ]
  },
  {
   "cell_type": "code",
   "execution_count": 161,
   "metadata": {},
   "outputs": [
    {
     "data": {
      "text/html": [
       "<style  type=\"text/css\" >\n",
       "#T_6d720645_8f53_11eb_9d69_bcee7b777c24row0_col1,#T_6d720645_8f53_11eb_9d69_bcee7b777c24row0_col2,#T_6d720645_8f53_11eb_9d69_bcee7b777c24row2_col3,#T_6d720645_8f53_11eb_9d69_bcee7b777c24row2_col4,#T_6d720645_8f53_11eb_9d69_bcee7b777c24row3_col3,#T_6d720645_8f53_11eb_9d69_bcee7b777c24row3_col4,#T_6d720645_8f53_11eb_9d69_bcee7b777c24row4_col3,#T_6d720645_8f53_11eb_9d69_bcee7b777c24row4_col4{\n",
       "            background-color:  #00441b;\n",
       "            color:  #f1f1f1;\n",
       "        }#T_6d720645_8f53_11eb_9d69_bcee7b777c24row0_col3,#T_6d720645_8f53_11eb_9d69_bcee7b777c24row0_col4,#T_6d720645_8f53_11eb_9d69_bcee7b777c24row2_col1,#T_6d720645_8f53_11eb_9d69_bcee7b777c24row2_col2,#T_6d720645_8f53_11eb_9d69_bcee7b777c24row3_col1,#T_6d720645_8f53_11eb_9d69_bcee7b777c24row3_col2,#T_6d720645_8f53_11eb_9d69_bcee7b777c24row4_col1,#T_6d720645_8f53_11eb_9d69_bcee7b777c24row4_col2{\n",
       "            background-color:  #f7fcf5;\n",
       "            color:  #000000;\n",
       "        }#T_6d720645_8f53_11eb_9d69_bcee7b777c24row1_col1{\n",
       "            background-color:  #b8e3b2;\n",
       "            color:  #000000;\n",
       "        }#T_6d720645_8f53_11eb_9d69_bcee7b777c24row1_col2{\n",
       "            background-color:  #e7f6e3;\n",
       "            color:  #000000;\n",
       "        }#T_6d720645_8f53_11eb_9d69_bcee7b777c24row1_col3{\n",
       "            background-color:  #004d1f;\n",
       "            color:  #f1f1f1;\n",
       "        }#T_6d720645_8f53_11eb_9d69_bcee7b777c24row1_col4{\n",
       "            background-color:  #005e26;\n",
       "            color:  #f1f1f1;\n",
       "        }</style><table id=\"T_6d720645_8f53_11eb_9d69_bcee7b777c24\" ><thead>    <tr>        <th class=\"blank level0\" ></th>        <th class=\"col_heading level0 col0\" >Models</th>        <th class=\"col_heading level0 col1\" >f1_score</th>        <th class=\"col_heading level0 col2\" >recall</th>        <th class=\"col_heading level0 col3\" >Accuracy on train set</th>        <th class=\"col_heading level0 col4\" >Accuracy on test set</th>    </tr></thead><tbody>\n",
       "                <tr>\n",
       "                        <th id=\"T_6d720645_8f53_11eb_9d69_bcee7b777c24level0_row0\" class=\"row_heading level0 row0\" >4</th>\n",
       "                        <td id=\"T_6d720645_8f53_11eb_9d69_bcee7b777c24row0_col0\" class=\"data row0 col0\" >Naive_Bayes</td>\n",
       "                        <td id=\"T_6d720645_8f53_11eb_9d69_bcee7b777c24row0_col1\" class=\"data row0 col1\" >0.267658</td>\n",
       "                        <td id=\"T_6d720645_8f53_11eb_9d69_bcee7b777c24row0_col2\" class=\"data row0 col2\" >0.433735</td>\n",
       "                        <td id=\"T_6d720645_8f53_11eb_9d69_bcee7b777c24row0_col3\" class=\"data row0 col3\" >0.870282</td>\n",
       "                        <td id=\"T_6d720645_8f53_11eb_9d69_bcee7b777c24row0_col4\" class=\"data row0 col4\" >0.871494</td>\n",
       "            </tr>\n",
       "            <tr>\n",
       "                        <th id=\"T_6d720645_8f53_11eb_9d69_bcee7b777c24level0_row1\" class=\"row_heading level0 row1\" >3</th>\n",
       "                        <td id=\"T_6d720645_8f53_11eb_9d69_bcee7b777c24row1_col0\" class=\"data row1 col0\" >LinearDiscriminantAnalysis</td>\n",
       "                        <td id=\"T_6d720645_8f53_11eb_9d69_bcee7b777c24row1_col1\" class=\"data row1 col1\" >0.080000</td>\n",
       "                        <td id=\"T_6d720645_8f53_11eb_9d69_bcee7b777c24row1_col2\" class=\"data row1 col2\" >0.048193</td>\n",
       "                        <td id=\"T_6d720645_8f53_11eb_9d69_bcee7b777c24row1_col3\" class=\"data row1 col3\" >0.951076</td>\n",
       "                        <td id=\"T_6d720645_8f53_11eb_9d69_bcee7b777c24row1_col4\" class=\"data row1 col4\" >0.939987</td>\n",
       "            </tr>\n",
       "            <tr>\n",
       "                        <th id=\"T_6d720645_8f53_11eb_9d69_bcee7b777c24level0_row2\" class=\"row_heading level0 row2\" >0</th>\n",
       "                        <td id=\"T_6d720645_8f53_11eb_9d69_bcee7b777c24row2_col0\" class=\"data row2 col0\" >Desicion Tree</td>\n",
       "                        <td id=\"T_6d720645_8f53_11eb_9d69_bcee7b777c24row2_col1\" class=\"data row2 col1\" >0.000000</td>\n",
       "                        <td id=\"T_6d720645_8f53_11eb_9d69_bcee7b777c24row2_col2\" class=\"data row2 col2\" >0.000000</td>\n",
       "                        <td id=\"T_6d720645_8f53_11eb_9d69_bcee7b777c24row2_col3\" class=\"data row2 col3\" >0.953592</td>\n",
       "                        <td id=\"T_6d720645_8f53_11eb_9d69_bcee7b777c24row2_col4\" class=\"data row2 col4\" >0.945858</td>\n",
       "            </tr>\n",
       "            <tr>\n",
       "                        <th id=\"T_6d720645_8f53_11eb_9d69_bcee7b777c24level0_row3\" class=\"row_heading level0 row3\" >1</th>\n",
       "                        <td id=\"T_6d720645_8f53_11eb_9d69_bcee7b777c24row3_col0\" class=\"data row3 col0\" >RandomForestClassifier</td>\n",
       "                        <td id=\"T_6d720645_8f53_11eb_9d69_bcee7b777c24row3_col1\" class=\"data row3 col1\" >0.000000</td>\n",
       "                        <td id=\"T_6d720645_8f53_11eb_9d69_bcee7b777c24row3_col2\" class=\"data row3 col2\" >0.000000</td>\n",
       "                        <td id=\"T_6d720645_8f53_11eb_9d69_bcee7b777c24row3_col3\" class=\"data row3 col3\" >0.953592</td>\n",
       "                        <td id=\"T_6d720645_8f53_11eb_9d69_bcee7b777c24row3_col4\" class=\"data row3 col4\" >0.945858</td>\n",
       "            </tr>\n",
       "            <tr>\n",
       "                        <th id=\"T_6d720645_8f53_11eb_9d69_bcee7b777c24level0_row4\" class=\"row_heading level0 row4\" >2</th>\n",
       "                        <td id=\"T_6d720645_8f53_11eb_9d69_bcee7b777c24row4_col0\" class=\"data row4 col0\" >LogisticRegression</td>\n",
       "                        <td id=\"T_6d720645_8f53_11eb_9d69_bcee7b777c24row4_col1\" class=\"data row4 col1\" >0.000000</td>\n",
       "                        <td id=\"T_6d720645_8f53_11eb_9d69_bcee7b777c24row4_col2\" class=\"data row4 col2\" >0.000000</td>\n",
       "                        <td id=\"T_6d720645_8f53_11eb_9d69_bcee7b777c24row4_col3\" class=\"data row4 col3\" >0.953592</td>\n",
       "                        <td id=\"T_6d720645_8f53_11eb_9d69_bcee7b777c24row4_col4\" class=\"data row4 col4\" >0.945858</td>\n",
       "            </tr>\n",
       "    </tbody></table>"
      ],
      "text/plain": [
       "<pandas.io.formats.style.Styler at 0x1dbae2f4f40>"
      ]
     },
     "execution_count": 161,
     "metadata": {},
     "output_type": "execute_result"
    }
   ],
   "source": [
    "# print out comparison in 'Blues' or 'Greens' or 'Greys'\n",
    "model_compare.style.background_gradient(cmap='Greens')"
   ]
  },
  {
   "cell_type": "code",
   "execution_count": null,
   "metadata": {},
   "outputs": [],
   "source": []
  }
 ],
 "metadata": {
  "kernelspec": {
   "display_name": "Python 3",
   "language": "python",
   "name": "python3"
  },
  "language_info": {
   "codemirror_mode": {
    "name": "ipython",
    "version": 3
   },
   "file_extension": ".py",
   "mimetype": "text/x-python",
   "name": "python",
   "nbconvert_exporter": "python",
   "pygments_lexer": "ipython3",
   "version": "3.8.3"
  }
 },
 "nbformat": 4,
 "nbformat_minor": 4
}
